{
  "nbformat": 4,
  "nbformat_minor": 0,
  "metadata": {
    "colab": {
      "name": "docx2python_Package_Trial.ipynb",
      "provenance": [],
      "collapsed_sections": [],
      "include_colab_link": true
    },
    "kernelspec": {
      "name": "python3",
      "display_name": "Python 3"
    }
  },
  "cells": [
    {
      "cell_type": "markdown",
      "metadata": {
        "id": "view-in-github",
        "colab_type": "text"
      },
      "source": [
        "<a href=\"https://colab.research.google.com/github/bigdatamatta/xai_resources/blob/master/docx2python_Package_Trial.ipynb\" target=\"_parent\"><img src=\"https://colab.research.google.com/assets/colab-badge.svg\" alt=\"Open In Colab\"/></a>"
      ]
    },
    {
      "cell_type": "code",
      "metadata": {
        "id": "yJlAxJYVUfWN",
        "colab_type": "code",
        "outputId": "8324e1cf-40df-4ac5-a683-90abb7e8645b",
        "colab": {
          "base_uri": "https://localhost:8080/",
          "height": 33
        }
      },
      "source": [
        "#The docx2python package\n",
        "!pip install docx2python"
      ],
      "execution_count": 23,
      "outputs": [
        {
          "output_type": "stream",
          "text": [
            "Requirement already satisfied: docx2python in /usr/local/lib/python3.6/dist-packages (1.19)\n"
          ],
          "name": "stdout"
        }
      ]
    },
    {
      "cell_type": "markdown",
      "metadata": {
        "id": "d3-_hVvX9N12",
        "colab_type": "text"
      },
      "source": [
        "https://shayallenhill.com/library-docx2python/\n",
        "https://pypi.org/project/docx2python/"
      ]
    },
    {
      "cell_type": "code",
      "metadata": {
        "id": "AQ8jr_nMUqZw",
        "colab_type": "code",
        "colab": {}
      },
      "source": [
        "from docx2python import docx2python"
      ],
      "execution_count": 0,
      "outputs": []
    },
    {
      "cell_type": "code",
      "metadata": {
        "id": "W0kBGKLeUtfd",
        "colab_type": "code",
        "colab": {}
      },
      "source": [
        "# extract docx content\n",
        "doc_result = docx2python('/content/Fictitious_1.docm')"
      ],
      "execution_count": 0,
      "outputs": []
    },
    {
      "cell_type": "code",
      "metadata": {
        "id": "mCCNhRtZYDIa",
        "colab_type": "code",
        "colab": {}
      },
      "source": [
        "# extract docx content with basic font styles converted to html\n",
        "html_of_doc = docx2python('/content/Fictitious_1.docm', html=True,)"
      ],
      "execution_count": 0,
      "outputs": []
    },
    {
      "cell_type": "code",
      "metadata": {
        "id": "R3qIXPrJU1JL",
        "colab_type": "code",
        "colab": {}
      },
      "source": [
        "# get separate components of the document\n",
        "textbody = doc_result.body"
      ],
      "execution_count": 0,
      "outputs": []
    },
    {
      "cell_type": "code",
      "metadata": {
        "id": "cnX7pQGgCt7A",
        "colab_type": "code",
        "colab": {}
      },
      "source": [
        "textstring = doc_result.text"
      ],
      "execution_count": 0,
      "outputs": []
    },
    {
      "cell_type": "code",
      "metadata": {
        "id": "VnxoFGh7ETYH",
        "colab_type": "code",
        "colab": {
          "base_uri": "https://localhost:8080/",
          "height": 53
        },
        "outputId": "7a116bb4-ec1b-47fc-8a18-b91e2881ec32"
      },
      "source": [
        "textstring"
      ],
      "execution_count": 39,
      "outputs": [
        {
          "output_type": "execute_result",
          "data": {
            "text/plain": [
              "'AGENCY PROFILE FORM\\n\\n\\n\\nAgency Information\\n\\n\\n\\nAgency Name:  Roy  & Assoc\\n\\nAgency Number (If Appointed): X1\\n\\nAgency Address: 1601 Willow Rd, Menlo Park, California 94025\\n\\nPhone: (818) 703-8057                                                                     Fax: (818) 703-0935\\n\\nWebsite: https://www.facebook.com/Facebook-HQ-166793820034304/\\n\\nTerritory Manager: Jeremy Harkin\\t\\n\\nSales Director: Liz Jones\\n\\nAgency Management System: XCVYUI\\n\\nPolicy Upload /Download Capabilities: Yes\\n\\nPayroll Company Relationships: Click here to enter text.\\n\\n\\n\\nHistory\\n\\n\\n\\nDate Started: Click here to enter a date.\\n\\nDate Appointed: 3/3/2018\\n\\nNumber of Locations: 10\\n\\nGeography: CA, FL, IL, NJ, Canada, NV\\n\\n\\n\\n\\n\\n\\n\\n\\n\\n\\n\\n\\n\\n\\n\\n\\n\\n\\n\\n\\n\\n\\n\\nSales Staff\\n\\nPlease click on the button to insert a contact list. If a contact list is not available, please use the below table to capture agency contacts. \\n\\nName\\n\\nTitle\\n\\nEmail\\n\\nPhone\\n\\nDecision Maker\\n\\nWho Do They Support\\n\\nProducer\\n\\n\\n\\nProducer Ranking\\n\\nProducer Industry Focus\\n\\nVan Kilmer\\n\\nSVP\\n\\nvkilmer@facebook.com\\n\\n718-603-2224\\n\\n☒\\n\\nMain contact\\n\\n☐\\n\\n\\n\\n\\n\\nRob Hardisty\\n\\nVP\\n\\nrhardisty@facebook.com\\n\\n718-713-8077 x132\\n\\n☐\\n\\n\\n\\n☒\\n\\n\\n\\nRestaurants\\n\\nTroy Bagwell\\n\\nEVP\\n\\ntroy@facebook.com\\n\\n718-476-5364\\n\\n☒\\n\\nPractice Leader\\n\\n☐\\n\\n\\n\\n\\n\\n\\n\\n\\n\\n\\n\\n\\n\\n☐\\n\\n\\n\\n☐\\n\\n\\n\\n\\n\\n\\n\\n\\n\\n\\n\\n\\n\\n☐\\n\\n\\n\\n☐\\n\\n\\n\\n\\n\\n\\n\\n\\n\\n\\n\\n\\n\\n☐\\n\\n\\n\\n☐\\n\\n\\n\\n\\n\\n\\n\\n\\n\\n\\n\\n\\n\\n☐\\n\\n\\n\\n☐\\n\\n\\n\\n\\n\\n\\n\\n\\n\\n\\n\\n\\n\\n☐\\n\\n\\n\\n☐\\n\\n\\n\\n\\n\\n\\n\\n\\n\\n\\n\\n\\n\\n☐\\n\\n\\n\\n☐\\n\\n\\n\\n\\n\\n\\n\\n\\n\\n\\n\\n\\n\\n☐\\n\\n\\n\\n☐\\n\\n\\n\\n\\n\\n\\n\\n\\n\\n\\n\\n\\n\\n☐\\n\\n\\n\\n☐\\n\\n\\n\\n\\n\\n\\n\\n\\n\\n\\n\\n\\n\\n☐\\n\\n\\n\\n☐\\n\\n\\n\\n\\n\\n\\n\\n\\n\\n\\n\\n\\n\\n\\n\\n\\n\\n\\n\\n\\n\\n\\n\\n\\n\\n\\n\\n\\n\\nAgency Volume\\n\\n\\n\\nTotal Written Premium ($ Revenue): $700M in revenue\\n\\nTotal Workers Comp Premium ($ Volume): Click here to enter text.\\n\\nPercentage of PL vs CL: Click here to enter text.\\n\\nDoes the agency prefer to split Comp (Multi vs Mono): Choose an item.\\n\\nDefine Small vs Middle Market (Revenue, Premium, Other etc…): Click here to enter text.\\n\\nIs there a specific small business marketing plan?: Click here to enter text.\\n\\n\\n\\nIndustry Group (Business Services, HealthCare, Retail, Construction, MFG, Technology, Education, Professional Services, Transportation, Financial Institution, Real Estate, Wholesale Distribution, Energy)\\n\\nIdentify Industry Group\\n\\nPercentage of Book & Comments\\n\\n     \\n\\n     \\n\\n     \\n\\n     \\n\\n     \\n\\n     \\n\\n     \\n\\n     \\n\\n     \\n\\n     \\n\\n\\n\\nSmall vs. Middle Market (Average Premium of Each)\\n\\n\\n\\nSmall\\n\\nMiddle Market\\n\\nAverage Premium\\n\\nClick here to enter text.\\n\\nClick here to enter text.\\n\\nDefinition / Threshold\\n\\nClick here to enter text.\\n\\nClick here to enter text.\\n\\nMarketing Strategy\\n\\nClick here to enter text.\\n\\nClick here to enter text.\\n\\nHow often are Accounts Remarketed?\\n\\nClick here to enter text.\\n\\nClick here to enter text.\\n\\nFocus Priorities (Industry Groups or Segments)\\n\\nClick here to enter text.\\n\\nClick here to enter text.\\n\\n\\n\\n\\n\\n\\n\\nOpportunities/Perpetuation Plan\\n\\n\\n\\nWhy Do You Need EMPLOYERS: Click here to enter text.\\n\\nAcquisitions/Mergers: Click here to enter text.\\n\\nAffiliation (Trade/ Industry Groups): Click here to enter text.\\n\\nPrograms & associations (existing | future plans): Click here to enter text.\\n\\n\\tIndustry: Click here to enter text.\\n\\n\\tHistory (Length of time): Click here to enter text.\\n\\nPerpetual Plan (Three to Five Years): Click here to enter text.\\n\\n\\n\\nAdditional Agency Information\\n\\nCompetition\\n\\n\\n\\nCarrier Name\\n\\nRanking\\n\\nTotal Premium\\n\\nStrengths\\n\\nWeakness\\n\\nZeus\\n\\nChoose an item.\\n\\nClick here to enter text.\\n\\nWill write cannibus\\n\\nClick here to enter text.\\n\\nNoTrust\\n\\nChoose an item.\\n\\nClick here to enter text.\\n\\nClick here to enter text.\\n\\nClick here to enter text.\\n\\nHardRock\\n\\nChoose an item.\\n\\nClick here to enter text.\\n\\nClick here to enter text.\\n\\nClick here to enter text.\\n\\nSpaceJ\\n\\nChoose an item.\\n\\nClick here to enter text.\\n\\nClick here to enter text.\\n\\nClick here to enter text.\\n\\nWHATIF\\n\\nChoose an item.\\n\\nClick here to enter text.\\n\\nClick here to enter text.\\n\\nClick here to enter text.\\n\\n\\n\\nCompensation\\n\\nWhat size of an account is Producer Paid (explain if it’s Revenue, Premium or Other): Click here to enter text.\\n\\nRevenue / Premium Threshold: Click here to enter text.\\n\\nNew / Renewal Difference (If Any): Click here to enter text.\\n\\nAccept Sales Incentives: Choose an item.\\n\\nIf Yes – Details: Click here to enter text.                              If No – Details: Click here to enter text.\\n\\nProfit Sharing (Shared with Producers): Click here to enter text.\\n\\nTop Ten Accounts\\n\\nAccount Name \\n\\nProducer Name\\n\\nEAP\\n\\nEffective Date\\n\\nClick here to enter text.\\n\\nClick here to enter text.\\n\\nClick here to enter text.\\n\\nClick here to enter text.\\n\\nClick here to enter text.\\n\\nClick here to enter text.\\n\\nClick here to enter text.\\n\\nClick here to enter text.\\n\\nClick here to enter text.\\n\\nClick here to enter text.\\n\\nClick here to enter text.\\n\\nClick here to enter text.\\n\\nClick here to enter text.\\n\\nClick here to enter text.\\n\\nClick here to enter text.\\n\\nClick here to enter text.\\n\\nClick here to enter text.\\n\\nClick here to enter text.\\n\\nClick here to enter text.\\n\\nClick here to enter text.\\n\\nClick here to enter text.\\n\\nClick here to enter text.\\n\\nClick here to enter text.\\n\\nClick here to enter text.\\n\\nClick here to enter text.\\n\\nClick here to enter text.\\n\\nClick here to enter text.\\n\\nClick here to enter text.\\n\\nClick here to enter text.\\n\\nClick here to enter text.\\n\\nClick here to enter text.\\n\\nClick here to enter text.\\n\\nClick here to enter text.\\n\\nClick here to enter text.\\n\\nClick here to enter text.\\n\\nClick here to enter text.\\n\\nClick here to enter text.\\n\\nClick here to enter text.\\n\\nClick here to enter text.\\n\\nClick here to enter text.\\n\\n\\n\\n\\n\\n\\n\\n\\n\\n\\n\\n\\n\\n\\n\\nNotes\\n\\n\\n\\n\\n\\n\\n\\n\\n\\n\\n\\n\\n\\n\\n\\n\\n\\n\\n\\n\\n\\n\\n\\n\\n\\n\\n\\n\\n\\n\\n\\n\\n\\n\\n\\nDocument History\\n\\n\\n\\n\\n\\n\\n\\n\\n\\n\\n\\n\\n\\n\\n\\n\\n\\nAgency Profile Form                                                    ----media/image1.jpeg----Page 1\\n\\n\\n\\n\\n\\n\\n\\n\\n\\n'"
            ]
          },
          "metadata": {
            "tags": []
          },
          "execution_count": 39
        }
      ]
    },
    {
      "cell_type": "code",
      "metadata": {
        "id": "D0fMyTHbwGne",
        "colab_type": "code",
        "outputId": "15c05943-31de-4a30-a252-b3c5c04f741c",
        "colab": {
          "base_uri": "https://localhost:8080/",
          "height": 1000
        }
      },
      "source": [
        "#Refer to the hierarchy mentioned in the support documents.\n",
        "textbody"
      ],
      "execution_count": 28,
      "outputs": [
        {
          "output_type": "execute_result",
          "data": {
            "text/plain": [
              "[[[['']]],\n",
              " [[['Agency Information']]],\n",
              " [[['',\n",
              "    'Agency Name:  Roy  & Assoc',\n",
              "    'Agency Number (If Appointed): X1',\n",
              "    'Agency Address: 1601 Willow Rd, Menlo Park, California 94025',\n",
              "    'Phone: (818) 703-8057                                                                     Fax: (818) 703-0935',\n",
              "    'Website: https://www.facebook.com/Facebook-HQ-166793820034304/',\n",
              "    'Territory Manager: Jeremy Harkin\\t',\n",
              "    'Sales Director: Liz Jones',\n",
              "    'Agency Management System: XCVYUI',\n",
              "    'Policy Upload /Download Capabilities: Yes',\n",
              "    'Payroll Company Relationships: Click here to enter text.',\n",
              "    '']]],\n",
              " [[['History']]],\n",
              " [[['',\n",
              "    'Date Started: Click here to enter a date.',\n",
              "    'Date Appointed: 3/3/2018',\n",
              "    'Number of Locations: 10',\n",
              "    'Geography: CA, FL, IL, NJ, Canada, NV',\n",
              "    '',\n",
              "    '',\n",
              "    '',\n",
              "    '',\n",
              "    '',\n",
              "    '',\n",
              "    '',\n",
              "    '',\n",
              "    '',\n",
              "    '',\n",
              "    '']]],\n",
              " [[['Sales Staff']],\n",
              "  [['Please click on the button to insert a contact list. If a contact list is not available, please use the below table to capture agency contacts. ']],\n",
              "  [['Name'],\n",
              "   ['Title'],\n",
              "   ['Email'],\n",
              "   ['Phone'],\n",
              "   ['Decision Maker'],\n",
              "   ['Who Do They Support'],\n",
              "   ['Producer', ''],\n",
              "   ['Producer Ranking'],\n",
              "   ['Producer Industry Focus']],\n",
              "  [['Van Kilmer'],\n",
              "   ['SVP'],\n",
              "   ['vkilmer@facebook.com'],\n",
              "   ['718-603-2224'],\n",
              "   ['☒'],\n",
              "   ['Main contact'],\n",
              "   ['☐'],\n",
              "   [''],\n",
              "   ['']],\n",
              "  [['Rob Hardisty'],\n",
              "   ['VP'],\n",
              "   ['rhardisty@facebook.com'],\n",
              "   ['718-713-8077 x132'],\n",
              "   ['☐'],\n",
              "   [''],\n",
              "   ['☒'],\n",
              "   [''],\n",
              "   ['Restaurants']],\n",
              "  [['Troy Bagwell'],\n",
              "   ['EVP'],\n",
              "   ['troy@facebook.com'],\n",
              "   ['718-476-5364'],\n",
              "   ['☒'],\n",
              "   ['Practice Leader'],\n",
              "   ['☐'],\n",
              "   [''],\n",
              "   ['']],\n",
              "  [[''], [''], [''], [''], ['☐'], [''], ['☐'], [''], ['']],\n",
              "  [[''], [''], [''], [''], ['☐'], [''], ['☐'], [''], ['']],\n",
              "  [[''], [''], [''], [''], ['☐'], [''], ['☐'], [''], ['']],\n",
              "  [[''], [''], [''], [''], ['☐'], [''], ['☐'], [''], ['']],\n",
              "  [[''], [''], [''], [''], ['☐'], [''], ['☐'], [''], ['']],\n",
              "  [[''], [''], [''], [''], ['☐'], [''], ['☐'], [''], ['']],\n",
              "  [[''], [''], [''], [''], ['☐'], [''], ['☐'], [''], ['']],\n",
              "  [[''], [''], [''], [''], ['☐'], [''], ['☐'], [''], ['']],\n",
              "  [[''], [''], [''], [''], ['☐'], [''], ['☐'], [''], ['']]],\n",
              " [[['', '', '', '', '', '', '', '', '', '', '', '']]],\n",
              " [[['Agency Volume']]],\n",
              " [[['',\n",
              "    'Total Written Premium ($ Revenue): $700M in revenue',\n",
              "    'Total Workers Comp Premium ($ Volume): Click here to enter text.',\n",
              "    'Percentage of PL vs CL: Click here to enter text.',\n",
              "    'Does the agency prefer to split Comp (Multi vs Mono): Choose an item.',\n",
              "    'Define Small vs Middle Market (Revenue, Premium, Other etc…): Click here to enter text.',\n",
              "    'Is there a specific small business marketing plan?: Click here to enter text.',\n",
              "    '',\n",
              "    'Industry Group (Business Services, HealthCare, Retail, Construction, MFG, Technology, Education, Professional Services, Transportation, Financial Institution, Real Estate, Wholesale Distribution, Energy)']]],\n",
              " [[['Identify Industry Group'], ['Percentage of Book & Comments']],\n",
              "  [['     '], ['     ']],\n",
              "  [['     '], ['     ']],\n",
              "  [['     '], ['     ']],\n",
              "  [['     '], ['     ']],\n",
              "  [['     '], ['     ']]],\n",
              " [[['']]],\n",
              " [[['Small vs. Middle Market (Average Premium of Each)']],\n",
              "  [[''], ['Small'], ['Middle Market']],\n",
              "  [['Average Premium'],\n",
              "   ['Click here to enter text.'],\n",
              "   ['Click here to enter text.']],\n",
              "  [['Definition / Threshold'],\n",
              "   ['Click here to enter text.'],\n",
              "   ['Click here to enter text.']],\n",
              "  [['Marketing Strategy'],\n",
              "   ['Click here to enter text.'],\n",
              "   ['Click here to enter text.']],\n",
              "  [['How often are Accounts Remarketed?'],\n",
              "   ['Click here to enter text.'],\n",
              "   ['Click here to enter text.']],\n",
              "  [['Focus Priorities (Industry Groups or Segments)'],\n",
              "   ['Click here to enter text.'],\n",
              "   ['Click here to enter text.']]],\n",
              " [[['', '', '']]],\n",
              " [[['Opportunities/Perpetuation Plan']]],\n",
              " [[['',\n",
              "    'Why Do You Need EMPLOYERS: Click here to enter text.',\n",
              "    'Acquisitions/Mergers: Click here to enter text.',\n",
              "    'Affiliation (Trade/ Industry Groups): Click here to enter text.',\n",
              "    'Programs & associations (existing | future plans): Click here to enter text.',\n",
              "    '\\tIndustry: Click here to enter text.',\n",
              "    '\\tHistory (Length of time): Click here to enter text.',\n",
              "    'Perpetual Plan (Three to Five Years): Click here to enter text.',\n",
              "    '']]],\n",
              " [[['Additional Agency Information']], [['Competition']]],\n",
              " [[['']]],\n",
              " [[['Carrier Name'],\n",
              "   ['Ranking'],\n",
              "   ['Total Premium'],\n",
              "   ['Strengths'],\n",
              "   ['Weakness']],\n",
              "  [['Zeus'],\n",
              "   ['Choose an item.'],\n",
              "   ['Click here to enter text.'],\n",
              "   ['Will write cannibus'],\n",
              "   ['Click here to enter text.']],\n",
              "  [['NoTrust'],\n",
              "   ['Choose an item.'],\n",
              "   ['Click here to enter text.'],\n",
              "   ['Click here to enter text.'],\n",
              "   ['Click here to enter text.']],\n",
              "  [['HardRock'],\n",
              "   ['Choose an item.'],\n",
              "   ['Click here to enter text.'],\n",
              "   ['Click here to enter text.'],\n",
              "   ['Click here to enter text.']],\n",
              "  [['SpaceJ'],\n",
              "   ['Choose an item.'],\n",
              "   ['Click here to enter text.'],\n",
              "   ['Click here to enter text.'],\n",
              "   ['Click here to enter text.']],\n",
              "  [['WHATIF'],\n",
              "   ['Choose an item.'],\n",
              "   ['Click here to enter text.'],\n",
              "   ['Click here to enter text.'],\n",
              "   ['Click here to enter text.']]],\n",
              " [[['']]],\n",
              " [[['Compensation']]],\n",
              " [[['What size of an account is Producer Paid (explain if it’s Revenue, Premium or Other): Click here to enter text.',\n",
              "    'Revenue / Premium Threshold: Click here to enter text.',\n",
              "    'New / Renewal Difference (If Any): Click here to enter text.',\n",
              "    'Accept Sales Incentives: Choose an item.',\n",
              "    'If Yes – Details: Click here to enter text.                              If No – Details: Click here to enter text.',\n",
              "    'Profit Sharing (Shared with Producers): Click here to enter text.']]],\n",
              " [[['Top Ten Accounts']],\n",
              "  [['Account Name '], ['Producer Name'], ['EAP'], ['Effective Date']],\n",
              "  [['Click here to enter text.'],\n",
              "   ['Click here to enter text.'],\n",
              "   ['Click here to enter text.'],\n",
              "   ['Click here to enter text.']],\n",
              "  [['Click here to enter text.'],\n",
              "   ['Click here to enter text.'],\n",
              "   ['Click here to enter text.'],\n",
              "   ['Click here to enter text.']],\n",
              "  [['Click here to enter text.'],\n",
              "   ['Click here to enter text.'],\n",
              "   ['Click here to enter text.'],\n",
              "   ['Click here to enter text.']],\n",
              "  [['Click here to enter text.'],\n",
              "   ['Click here to enter text.'],\n",
              "   ['Click here to enter text.'],\n",
              "   ['Click here to enter text.']],\n",
              "  [['Click here to enter text.'],\n",
              "   ['Click here to enter text.'],\n",
              "   ['Click here to enter text.'],\n",
              "   ['Click here to enter text.']],\n",
              "  [['Click here to enter text.'],\n",
              "   ['Click here to enter text.'],\n",
              "   ['Click here to enter text.'],\n",
              "   ['Click here to enter text.']],\n",
              "  [['Click here to enter text.'],\n",
              "   ['Click here to enter text.'],\n",
              "   ['Click here to enter text.'],\n",
              "   ['Click here to enter text.']],\n",
              "  [['Click here to enter text.'],\n",
              "   ['Click here to enter text.'],\n",
              "   ['Click here to enter text.'],\n",
              "   ['Click here to enter text.']],\n",
              "  [['Click here to enter text.'],\n",
              "   ['Click here to enter text.'],\n",
              "   ['Click here to enter text.'],\n",
              "   ['Click here to enter text.']],\n",
              "  [['Click here to enter text.'],\n",
              "   ['Click here to enter text.'],\n",
              "   ['Click here to enter text.'],\n",
              "   ['Click here to enter text.']]],\n",
              " [[['', '', '', '', '', '', '']]],\n",
              " [[['Notes']],\n",
              "  [['']],\n",
              "  [['']],\n",
              "  [['']],\n",
              "  [['']],\n",
              "  [['']],\n",
              "  [['']],\n",
              "  [['']],\n",
              "  [['']],\n",
              "  [['']],\n",
              "  [['']],\n",
              "  [['']],\n",
              "  [['']],\n",
              "  [['']],\n",
              "  [['']],\n",
              "  [['']],\n",
              "  [['']],\n",
              "  [['']],\n",
              "  [['Document History']],\n",
              "  [['']],\n",
              "  [['']],\n",
              "  [['']],\n",
              "  [['']],\n",
              "  [['']],\n",
              "  [['']],\n",
              "  [['']]],\n",
              " [[['']]]]"
            ]
          },
          "metadata": {
            "tags": []
          },
          "execution_count": 28
        }
      ]
    },
    {
      "cell_type": "code",
      "metadata": {
        "id": "AXA9QcOh8s9U",
        "colab_type": "code",
        "colab": {
          "base_uri": "https://localhost:8080/",
          "height": 131
        },
        "outputId": "a26e8f03-76cf-4554-c75f-b96bca6d52dc"
      },
      "source": [
        "!pip install docx2html"
      ],
      "execution_count": 54,
      "outputs": [
        {
          "output_type": "stream",
          "text": [
            "Collecting docx2html\n",
            "  Using cached https://files.pythonhosted.org/packages/b3/a9/e943f7b36f1a8afd8b234b9e999be8837ab2666c7e743a4d527e14d39053/docx2html-0.2.3.tar.gz\n",
            "Collecting lxml==2.2.4\n",
            "  Using cached https://files.pythonhosted.org/packages/91/85/2776a729f8ef1e2aca83e02393dbdfcdf2c0f7c5a1205a77bbf1f82230f9/lxml-2.2.4.tar.gz\n",
            "Collecting pillow==1.7.7\n",
            "  Using cached https://files.pythonhosted.org/packages/77/93/d6eabe91dda55ac924c95763568d596e3e6082950a04c24fccf32c12324c/Pillow-1.7.7.zip\n",
            "\u001b[31mERROR: Command errored out with exit status 1: python setup.py egg_info Check the logs for full command output.\u001b[0m\n"
          ],
          "name": "stdout"
        }
      ]
    },
    {
      "cell_type": "code",
      "metadata": {
        "id": "0EWMoPVjJUhl",
        "colab_type": "code",
        "colab": {
          "base_uri": "https://localhost:8080/",
          "height": 305
        },
        "outputId": "635106e7-b5d0-4ef3-9ae8-cbaf5523fe33"
      },
      "source": [
        "from docx2html import convert\n",
        "html_of_doc = convert('/content/Fictitious_1.docx')"
      ],
      "execution_count": 53,
      "outputs": [
        {
          "output_type": "error",
          "ename": "ModuleNotFoundError",
          "evalue": "ignored",
          "traceback": [
            "\u001b[0;31m---------------------------------------------------------------------------\u001b[0m",
            "\u001b[0;31mModuleNotFoundError\u001b[0m                       Traceback (most recent call last)",
            "\u001b[0;32m<ipython-input-53-68f0e14700ec>\u001b[0m in \u001b[0;36m<module>\u001b[0;34m()\u001b[0m\n\u001b[0;32m----> 1\u001b[0;31m \u001b[0;32mfrom\u001b[0m \u001b[0mdocx2html\u001b[0m \u001b[0;32mimport\u001b[0m \u001b[0mconvert\u001b[0m\u001b[0;34m\u001b[0m\u001b[0;34m\u001b[0m\u001b[0m\n\u001b[0m\u001b[1;32m      2\u001b[0m \u001b[0mhtml_of_doc\u001b[0m \u001b[0;34m=\u001b[0m \u001b[0mconvert\u001b[0m\u001b[0;34m(\u001b[0m\u001b[0;34m'/content/Fictitious_1.docx'\u001b[0m\u001b[0;34m)\u001b[0m\u001b[0;34m\u001b[0m\u001b[0;34m\u001b[0m\u001b[0m\n",
            "\u001b[0;31mModuleNotFoundError\u001b[0m: No module named 'docx2html'",
            "",
            "\u001b[0;31m---------------------------------------------------------------------------\u001b[0;32m\nNOTE: If your import is failing due to a missing package, you can\nmanually install dependencies using either !pip or !apt.\n\nTo view examples of installing some common dependencies, click the\n\"Open Examples\" button below.\n\u001b[0;31m---------------------------------------------------------------------------\u001b[0m\n"
          ]
        }
      ]
    },
    {
      "cell_type": "code",
      "metadata": {
        "id": "C8lkucUl8uyY",
        "colab_type": "code",
        "colab": {}
      },
      "source": [
        "from IPython.display import display_html"
      ],
      "execution_count": 0,
      "outputs": []
    },
    {
      "cell_type": "code",
      "metadata": {
        "id": "5G7P9PTBItjj",
        "colab_type": "code",
        "colab": {}
      },
      "source": [
        "display_html(html_of_doc, raw=True)"
      ],
      "execution_count": 0,
      "outputs": []
    },
    {
      "cell_type": "code",
      "metadata": {
        "id": "Ux_r4ALSJASW",
        "colab_type": "code",
        "colab": {}
      },
      "source": [
        "import pandas as pd"
      ],
      "execution_count": 0,
      "outputs": []
    },
    {
      "cell_type": "code",
      "metadata": {
        "id": "A0DgPcEAI3O7",
        "colab_type": "code",
        "colab": {
          "base_uri": "https://localhost:8080/",
          "height": 312
        },
        "outputId": "fe66e3a9-d452-4ea6-cdff-7a4cea2bcebd"
      },
      "source": [
        "dfs = pd.read_html(html_of_doc)\n",
        "dfs"
      ],
      "execution_count": 46,
      "outputs": [
        {
          "output_type": "error",
          "ename": "TypeError",
          "evalue": "ignored",
          "traceback": [
            "\u001b[0;31m---------------------------------------------------------------------------\u001b[0m",
            "\u001b[0;31mTypeError\u001b[0m                                 Traceback (most recent call last)",
            "\u001b[0;32m<ipython-input-46-7842d7dcd4e8>\u001b[0m in \u001b[0;36m<module>\u001b[0;34m()\u001b[0m\n\u001b[0;32m----> 1\u001b[0;31m \u001b[0mdfs\u001b[0m \u001b[0;34m=\u001b[0m \u001b[0mpd\u001b[0m\u001b[0;34m.\u001b[0m\u001b[0mread_html\u001b[0m\u001b[0;34m(\u001b[0m\u001b[0mhtml_of_doc\u001b[0m\u001b[0;34m)\u001b[0m\u001b[0;34m\u001b[0m\u001b[0;34m\u001b[0m\u001b[0m\n\u001b[0m\u001b[1;32m      2\u001b[0m \u001b[0mdfs\u001b[0m\u001b[0;34m\u001b[0m\u001b[0;34m\u001b[0m\u001b[0m\n",
            "\u001b[0;32m/usr/local/lib/python3.6/dist-packages/pandas/io/html.py\u001b[0m in \u001b[0;36mread_html\u001b[0;34m(io, match, flavor, header, index_col, skiprows, attrs, parse_dates, thousands, encoding, decimal, converters, na_values, keep_default_na, displayed_only)\u001b[0m\n\u001b[1;32m   1103\u001b[0m         \u001b[0mna_values\u001b[0m\u001b[0;34m=\u001b[0m\u001b[0mna_values\u001b[0m\u001b[0;34m,\u001b[0m\u001b[0;34m\u001b[0m\u001b[0;34m\u001b[0m\u001b[0m\n\u001b[1;32m   1104\u001b[0m         \u001b[0mkeep_default_na\u001b[0m\u001b[0;34m=\u001b[0m\u001b[0mkeep_default_na\u001b[0m\u001b[0;34m,\u001b[0m\u001b[0;34m\u001b[0m\u001b[0;34m\u001b[0m\u001b[0m\n\u001b[0;32m-> 1105\u001b[0;31m         \u001b[0mdisplayed_only\u001b[0m\u001b[0;34m=\u001b[0m\u001b[0mdisplayed_only\u001b[0m\u001b[0;34m,\u001b[0m\u001b[0;34m\u001b[0m\u001b[0;34m\u001b[0m\u001b[0m\n\u001b[0m\u001b[1;32m   1106\u001b[0m     )\n",
            "\u001b[0;32m/usr/local/lib/python3.6/dist-packages/pandas/io/html.py\u001b[0m in \u001b[0;36m_parse\u001b[0;34m(flavor, io, match, attrs, encoding, displayed_only, **kwargs)\u001b[0m\n\u001b[1;32m    910\u001b[0m             \u001b[0;32mbreak\u001b[0m\u001b[0;34m\u001b[0m\u001b[0;34m\u001b[0m\u001b[0m\n\u001b[1;32m    911\u001b[0m     \u001b[0;32melse\u001b[0m\u001b[0;34m:\u001b[0m\u001b[0;34m\u001b[0m\u001b[0;34m\u001b[0m\u001b[0m\n\u001b[0;32m--> 912\u001b[0;31m         \u001b[0mraise_with_traceback\u001b[0m\u001b[0;34m(\u001b[0m\u001b[0mretained\u001b[0m\u001b[0;34m)\u001b[0m\u001b[0;34m\u001b[0m\u001b[0;34m\u001b[0m\u001b[0m\n\u001b[0m\u001b[1;32m    913\u001b[0m \u001b[0;34m\u001b[0m\u001b[0m\n\u001b[1;32m    914\u001b[0m     \u001b[0mret\u001b[0m \u001b[0;34m=\u001b[0m \u001b[0;34m[\u001b[0m\u001b[0;34m]\u001b[0m\u001b[0;34m\u001b[0m\u001b[0;34m\u001b[0m\u001b[0m\n",
            "\u001b[0;32m/usr/local/lib/python3.6/dist-packages/pandas/compat/__init__.py\u001b[0m in \u001b[0;36mraise_with_traceback\u001b[0;34m(exc, traceback)\u001b[0m\n\u001b[1;32m     45\u001b[0m     \u001b[0;32mif\u001b[0m \u001b[0mtraceback\u001b[0m \u001b[0;34m==\u001b[0m \u001b[0mEllipsis\u001b[0m\u001b[0;34m:\u001b[0m\u001b[0;34m\u001b[0m\u001b[0;34m\u001b[0m\u001b[0m\n\u001b[1;32m     46\u001b[0m         \u001b[0m_\u001b[0m\u001b[0;34m,\u001b[0m \u001b[0m_\u001b[0m\u001b[0;34m,\u001b[0m \u001b[0mtraceback\u001b[0m \u001b[0;34m=\u001b[0m \u001b[0msys\u001b[0m\u001b[0;34m.\u001b[0m\u001b[0mexc_info\u001b[0m\u001b[0;34m(\u001b[0m\u001b[0;34m)\u001b[0m\u001b[0;34m\u001b[0m\u001b[0;34m\u001b[0m\u001b[0m\n\u001b[0;32m---> 47\u001b[0;31m     \u001b[0;32mraise\u001b[0m \u001b[0mexc\u001b[0m\u001b[0;34m.\u001b[0m\u001b[0mwith_traceback\u001b[0m\u001b[0;34m(\u001b[0m\u001b[0mtraceback\u001b[0m\u001b[0;34m)\u001b[0m\u001b[0;34m\u001b[0m\u001b[0;34m\u001b[0m\u001b[0m\n\u001b[0m\u001b[1;32m     48\u001b[0m \u001b[0;34m\u001b[0m\u001b[0m\n\u001b[1;32m     49\u001b[0m \u001b[0;34m\u001b[0m\u001b[0m\n",
            "\u001b[0;31mTypeError\u001b[0m: Cannot read object of type 'DocxContent'"
          ]
        }
      ]
    },
    {
      "cell_type": "code",
      "metadata": {
        "id": "1WL2KyqiKeJB",
        "colab_type": "code",
        "colab": {}
      },
      "source": [
        "dfs = pd.read_html('http://www.contextures.com/xlSampleData01.html')"
      ],
      "execution_count": 0,
      "outputs": []
    },
    {
      "cell_type": "code",
      "metadata": {
        "id": "VSkG7SPqKV27",
        "colab_type": "code",
        "colab": {
          "base_uri": "https://localhost:8080/",
          "height": 1000
        },
        "outputId": "66681ced-1ca9-4a50-ebd1-d11433a9a667"
      },
      "source": [
        "df = dfs[0]\n",
        "df"
      ],
      "execution_count": 52,
      "outputs": [
        {
          "output_type": "execute_result",
          "data": {
            "text/html": [
              "<div>\n",
              "<style scoped>\n",
              "    .dataframe tbody tr th:only-of-type {\n",
              "        vertical-align: middle;\n",
              "    }\n",
              "\n",
              "    .dataframe tbody tr th {\n",
              "        vertical-align: top;\n",
              "    }\n",
              "\n",
              "    .dataframe thead th {\n",
              "        text-align: right;\n",
              "    }\n",
              "</style>\n",
              "<table border=\"1\" class=\"dataframe\">\n",
              "  <thead>\n",
              "    <tr style=\"text-align: right;\">\n",
              "      <th></th>\n",
              "      <th>0</th>\n",
              "      <th>1</th>\n",
              "      <th>2</th>\n",
              "      <th>3</th>\n",
              "      <th>4</th>\n",
              "      <th>5</th>\n",
              "      <th>6</th>\n",
              "    </tr>\n",
              "  </thead>\n",
              "  <tbody>\n",
              "    <tr>\n",
              "      <th>0</th>\n",
              "      <td>OrderDate</td>\n",
              "      <td>Region</td>\n",
              "      <td>Rep</td>\n",
              "      <td>Item</td>\n",
              "      <td>Units</td>\n",
              "      <td>UnitCost</td>\n",
              "      <td>Total</td>\n",
              "    </tr>\n",
              "    <tr>\n",
              "      <th>1</th>\n",
              "      <td>1/6/2018</td>\n",
              "      <td>East</td>\n",
              "      <td>Jones</td>\n",
              "      <td>Pencil</td>\n",
              "      <td>95</td>\n",
              "      <td>1.99</td>\n",
              "      <td>189.05</td>\n",
              "    </tr>\n",
              "    <tr>\n",
              "      <th>2</th>\n",
              "      <td>1/23/2018</td>\n",
              "      <td>Central</td>\n",
              "      <td>Kivell</td>\n",
              "      <td>Binder</td>\n",
              "      <td>50</td>\n",
              "      <td>19.99</td>\n",
              "      <td>999.50</td>\n",
              "    </tr>\n",
              "    <tr>\n",
              "      <th>3</th>\n",
              "      <td>2/9/2018</td>\n",
              "      <td>Central</td>\n",
              "      <td>Jardine</td>\n",
              "      <td>Pencil</td>\n",
              "      <td>36</td>\n",
              "      <td>4.99</td>\n",
              "      <td>179.64</td>\n",
              "    </tr>\n",
              "    <tr>\n",
              "      <th>4</th>\n",
              "      <td>2/26/2018</td>\n",
              "      <td>Central</td>\n",
              "      <td>Gill</td>\n",
              "      <td>Pen</td>\n",
              "      <td>27</td>\n",
              "      <td>19.99</td>\n",
              "      <td>539.73</td>\n",
              "    </tr>\n",
              "    <tr>\n",
              "      <th>5</th>\n",
              "      <td>3/15/2018</td>\n",
              "      <td>West</td>\n",
              "      <td>Sorvino</td>\n",
              "      <td>Pencil</td>\n",
              "      <td>56</td>\n",
              "      <td>2.99</td>\n",
              "      <td>167.44</td>\n",
              "    </tr>\n",
              "    <tr>\n",
              "      <th>6</th>\n",
              "      <td>4/1/2018</td>\n",
              "      <td>East</td>\n",
              "      <td>Jones</td>\n",
              "      <td>Binder</td>\n",
              "      <td>60</td>\n",
              "      <td>4.99</td>\n",
              "      <td>299.40</td>\n",
              "    </tr>\n",
              "    <tr>\n",
              "      <th>7</th>\n",
              "      <td>4/18/2018</td>\n",
              "      <td>Central</td>\n",
              "      <td>Andrews</td>\n",
              "      <td>Pencil</td>\n",
              "      <td>75</td>\n",
              "      <td>1.99</td>\n",
              "      <td>149.25</td>\n",
              "    </tr>\n",
              "    <tr>\n",
              "      <th>8</th>\n",
              "      <td>5/5/2018</td>\n",
              "      <td>Central</td>\n",
              "      <td>Jardine</td>\n",
              "      <td>Pencil</td>\n",
              "      <td>90</td>\n",
              "      <td>4.99</td>\n",
              "      <td>449.10</td>\n",
              "    </tr>\n",
              "    <tr>\n",
              "      <th>9</th>\n",
              "      <td>5/22/2018</td>\n",
              "      <td>West</td>\n",
              "      <td>Thompson</td>\n",
              "      <td>Pencil</td>\n",
              "      <td>32</td>\n",
              "      <td>1.99</td>\n",
              "      <td>63.68</td>\n",
              "    </tr>\n",
              "    <tr>\n",
              "      <th>10</th>\n",
              "      <td>6/8/2018</td>\n",
              "      <td>East</td>\n",
              "      <td>Jones</td>\n",
              "      <td>Binder</td>\n",
              "      <td>60</td>\n",
              "      <td>8.99</td>\n",
              "      <td>539.40</td>\n",
              "    </tr>\n",
              "    <tr>\n",
              "      <th>11</th>\n",
              "      <td>6/25/2018</td>\n",
              "      <td>Central</td>\n",
              "      <td>Morgan</td>\n",
              "      <td>Pencil</td>\n",
              "      <td>90</td>\n",
              "      <td>4.99</td>\n",
              "      <td>449.10</td>\n",
              "    </tr>\n",
              "    <tr>\n",
              "      <th>12</th>\n",
              "      <td>7/12/2018</td>\n",
              "      <td>East</td>\n",
              "      <td>Howard</td>\n",
              "      <td>Binder</td>\n",
              "      <td>29</td>\n",
              "      <td>1.99</td>\n",
              "      <td>57.71</td>\n",
              "    </tr>\n",
              "    <tr>\n",
              "      <th>13</th>\n",
              "      <td>7/29/2018</td>\n",
              "      <td>East</td>\n",
              "      <td>Parent</td>\n",
              "      <td>Binder</td>\n",
              "      <td>81</td>\n",
              "      <td>19.99</td>\n",
              "      <td>1619.19</td>\n",
              "    </tr>\n",
              "    <tr>\n",
              "      <th>14</th>\n",
              "      <td>8/15/2018</td>\n",
              "      <td>East</td>\n",
              "      <td>Jones</td>\n",
              "      <td>Pencil</td>\n",
              "      <td>35</td>\n",
              "      <td>4.99</td>\n",
              "      <td>174.65</td>\n",
              "    </tr>\n",
              "    <tr>\n",
              "      <th>15</th>\n",
              "      <td>9/1/2018</td>\n",
              "      <td>Central</td>\n",
              "      <td>Smith</td>\n",
              "      <td>Desk</td>\n",
              "      <td>2</td>\n",
              "      <td>125.00</td>\n",
              "      <td>250.00</td>\n",
              "    </tr>\n",
              "    <tr>\n",
              "      <th>16</th>\n",
              "      <td>9/18/2018</td>\n",
              "      <td>East</td>\n",
              "      <td>Jones</td>\n",
              "      <td>Pen Set</td>\n",
              "      <td>16</td>\n",
              "      <td>15.99</td>\n",
              "      <td>255.84</td>\n",
              "    </tr>\n",
              "    <tr>\n",
              "      <th>17</th>\n",
              "      <td>10/5/2018</td>\n",
              "      <td>Central</td>\n",
              "      <td>Morgan</td>\n",
              "      <td>Binder</td>\n",
              "      <td>28</td>\n",
              "      <td>8.99</td>\n",
              "      <td>251.72</td>\n",
              "    </tr>\n",
              "    <tr>\n",
              "      <th>18</th>\n",
              "      <td>10/22/2018</td>\n",
              "      <td>East</td>\n",
              "      <td>Jones</td>\n",
              "      <td>Pen</td>\n",
              "      <td>64</td>\n",
              "      <td>8.99</td>\n",
              "      <td>575.36</td>\n",
              "    </tr>\n",
              "    <tr>\n",
              "      <th>19</th>\n",
              "      <td>11/8/2018</td>\n",
              "      <td>East</td>\n",
              "      <td>Parent</td>\n",
              "      <td>Pen</td>\n",
              "      <td>15</td>\n",
              "      <td>19.99</td>\n",
              "      <td>299.85</td>\n",
              "    </tr>\n",
              "    <tr>\n",
              "      <th>20</th>\n",
              "      <td>11/25/2018</td>\n",
              "      <td>Central</td>\n",
              "      <td>Kivell</td>\n",
              "      <td>Pen Set</td>\n",
              "      <td>96</td>\n",
              "      <td>4.99</td>\n",
              "      <td>479.04</td>\n",
              "    </tr>\n",
              "    <tr>\n",
              "      <th>21</th>\n",
              "      <td>12/12/2018</td>\n",
              "      <td>Central</td>\n",
              "      <td>Smith</td>\n",
              "      <td>Pencil</td>\n",
              "      <td>67</td>\n",
              "      <td>1.29</td>\n",
              "      <td>86.43</td>\n",
              "    </tr>\n",
              "    <tr>\n",
              "      <th>22</th>\n",
              "      <td>12/29/2018</td>\n",
              "      <td>East</td>\n",
              "      <td>Parent</td>\n",
              "      <td>Pen Set</td>\n",
              "      <td>74</td>\n",
              "      <td>15.99</td>\n",
              "      <td>1183.26</td>\n",
              "    </tr>\n",
              "    <tr>\n",
              "      <th>23</th>\n",
              "      <td>1/15/2019</td>\n",
              "      <td>Central</td>\n",
              "      <td>Gill</td>\n",
              "      <td>Binder</td>\n",
              "      <td>46</td>\n",
              "      <td>8.99</td>\n",
              "      <td>413.54</td>\n",
              "    </tr>\n",
              "    <tr>\n",
              "      <th>24</th>\n",
              "      <td>2/1/2019</td>\n",
              "      <td>Central</td>\n",
              "      <td>Smith</td>\n",
              "      <td>Binder</td>\n",
              "      <td>87</td>\n",
              "      <td>15.00</td>\n",
              "      <td>1305.00</td>\n",
              "    </tr>\n",
              "    <tr>\n",
              "      <th>25</th>\n",
              "      <td>2/18/2019</td>\n",
              "      <td>East</td>\n",
              "      <td>Jones</td>\n",
              "      <td>Binder</td>\n",
              "      <td>4</td>\n",
              "      <td>4.99</td>\n",
              "      <td>19.96</td>\n",
              "    </tr>\n",
              "    <tr>\n",
              "      <th>26</th>\n",
              "      <td>3/7/2019</td>\n",
              "      <td>West</td>\n",
              "      <td>Sorvino</td>\n",
              "      <td>Binder</td>\n",
              "      <td>7</td>\n",
              "      <td>19.99</td>\n",
              "      <td>139.93</td>\n",
              "    </tr>\n",
              "    <tr>\n",
              "      <th>27</th>\n",
              "      <td>3/24/2019</td>\n",
              "      <td>Central</td>\n",
              "      <td>Jardine</td>\n",
              "      <td>Pen Set</td>\n",
              "      <td>50</td>\n",
              "      <td>4.99</td>\n",
              "      <td>249.50</td>\n",
              "    </tr>\n",
              "    <tr>\n",
              "      <th>28</th>\n",
              "      <td>4/10/2019</td>\n",
              "      <td>Central</td>\n",
              "      <td>Andrews</td>\n",
              "      <td>Pencil</td>\n",
              "      <td>66</td>\n",
              "      <td>1.99</td>\n",
              "      <td>131.34</td>\n",
              "    </tr>\n",
              "    <tr>\n",
              "      <th>29</th>\n",
              "      <td>4/27/2019</td>\n",
              "      <td>East</td>\n",
              "      <td>Howard</td>\n",
              "      <td>Pen</td>\n",
              "      <td>96</td>\n",
              "      <td>4.99</td>\n",
              "      <td>479.04</td>\n",
              "    </tr>\n",
              "    <tr>\n",
              "      <th>30</th>\n",
              "      <td>5/14/2019</td>\n",
              "      <td>Central</td>\n",
              "      <td>Gill</td>\n",
              "      <td>Pencil</td>\n",
              "      <td>53</td>\n",
              "      <td>1.29</td>\n",
              "      <td>68.37</td>\n",
              "    </tr>\n",
              "    <tr>\n",
              "      <th>31</th>\n",
              "      <td>5/31/2019</td>\n",
              "      <td>Central</td>\n",
              "      <td>Gill</td>\n",
              "      <td>Binder</td>\n",
              "      <td>80</td>\n",
              "      <td>8.99</td>\n",
              "      <td>719.20</td>\n",
              "    </tr>\n",
              "    <tr>\n",
              "      <th>32</th>\n",
              "      <td>6/17/2019</td>\n",
              "      <td>Central</td>\n",
              "      <td>Kivell</td>\n",
              "      <td>Desk</td>\n",
              "      <td>5</td>\n",
              "      <td>125.00</td>\n",
              "      <td>625.00</td>\n",
              "    </tr>\n",
              "    <tr>\n",
              "      <th>33</th>\n",
              "      <td>7/4/2019</td>\n",
              "      <td>East</td>\n",
              "      <td>Jones</td>\n",
              "      <td>Pen Set</td>\n",
              "      <td>62</td>\n",
              "      <td>4.99</td>\n",
              "      <td>309.38</td>\n",
              "    </tr>\n",
              "    <tr>\n",
              "      <th>34</th>\n",
              "      <td>7/21/2019</td>\n",
              "      <td>Central</td>\n",
              "      <td>Morgan</td>\n",
              "      <td>Pen Set</td>\n",
              "      <td>55</td>\n",
              "      <td>12.49</td>\n",
              "      <td>686.95</td>\n",
              "    </tr>\n",
              "    <tr>\n",
              "      <th>35</th>\n",
              "      <td>8/7/2019</td>\n",
              "      <td>Central</td>\n",
              "      <td>Kivell</td>\n",
              "      <td>Pen Set</td>\n",
              "      <td>42</td>\n",
              "      <td>23.95</td>\n",
              "      <td>1005.90</td>\n",
              "    </tr>\n",
              "    <tr>\n",
              "      <th>36</th>\n",
              "      <td>8/24/2019</td>\n",
              "      <td>West</td>\n",
              "      <td>Sorvino</td>\n",
              "      <td>Desk</td>\n",
              "      <td>3</td>\n",
              "      <td>275.00</td>\n",
              "      <td>825.00</td>\n",
              "    </tr>\n",
              "    <tr>\n",
              "      <th>37</th>\n",
              "      <td>9/10/2019</td>\n",
              "      <td>Central</td>\n",
              "      <td>Gill</td>\n",
              "      <td>Pencil</td>\n",
              "      <td>7</td>\n",
              "      <td>1.29</td>\n",
              "      <td>9.03</td>\n",
              "    </tr>\n",
              "    <tr>\n",
              "      <th>38</th>\n",
              "      <td>9/27/2019</td>\n",
              "      <td>West</td>\n",
              "      <td>Sorvino</td>\n",
              "      <td>Pen</td>\n",
              "      <td>76</td>\n",
              "      <td>1.99</td>\n",
              "      <td>151.24</td>\n",
              "    </tr>\n",
              "    <tr>\n",
              "      <th>39</th>\n",
              "      <td>10/14/2019</td>\n",
              "      <td>West</td>\n",
              "      <td>Thompson</td>\n",
              "      <td>Binder</td>\n",
              "      <td>57</td>\n",
              "      <td>19.99</td>\n",
              "      <td>1139.43</td>\n",
              "    </tr>\n",
              "    <tr>\n",
              "      <th>40</th>\n",
              "      <td>10/31/2019</td>\n",
              "      <td>Central</td>\n",
              "      <td>Andrews</td>\n",
              "      <td>Pencil</td>\n",
              "      <td>14</td>\n",
              "      <td>1.29</td>\n",
              "      <td>18.06</td>\n",
              "    </tr>\n",
              "    <tr>\n",
              "      <th>41</th>\n",
              "      <td>11/17/2019</td>\n",
              "      <td>Central</td>\n",
              "      <td>Jardine</td>\n",
              "      <td>Binder</td>\n",
              "      <td>11</td>\n",
              "      <td>4.99</td>\n",
              "      <td>54.89</td>\n",
              "    </tr>\n",
              "    <tr>\n",
              "      <th>42</th>\n",
              "      <td>12/4/2019</td>\n",
              "      <td>Central</td>\n",
              "      <td>Jardine</td>\n",
              "      <td>Binder</td>\n",
              "      <td>94</td>\n",
              "      <td>19.99</td>\n",
              "      <td>1879.06</td>\n",
              "    </tr>\n",
              "    <tr>\n",
              "      <th>43</th>\n",
              "      <td>12/21/2019</td>\n",
              "      <td>Central</td>\n",
              "      <td>Andrews</td>\n",
              "      <td>Binder</td>\n",
              "      <td>28</td>\n",
              "      <td>4.99</td>\n",
              "      <td>139.72</td>\n",
              "    </tr>\n",
              "  </tbody>\n",
              "</table>\n",
              "</div>"
            ],
            "text/plain": [
              "             0        1         2        3      4         5        6\n",
              "0    OrderDate   Region       Rep     Item  Units  UnitCost    Total\n",
              "1     1/6/2018     East     Jones   Pencil     95      1.99   189.05\n",
              "2    1/23/2018  Central    Kivell   Binder     50     19.99   999.50\n",
              "3     2/9/2018  Central   Jardine   Pencil     36      4.99   179.64\n",
              "4    2/26/2018  Central      Gill      Pen     27     19.99   539.73\n",
              "5    3/15/2018     West   Sorvino   Pencil     56      2.99   167.44\n",
              "6     4/1/2018     East     Jones   Binder     60      4.99   299.40\n",
              "7    4/18/2018  Central   Andrews   Pencil     75      1.99   149.25\n",
              "8     5/5/2018  Central   Jardine   Pencil     90      4.99   449.10\n",
              "9    5/22/2018     West  Thompson   Pencil     32      1.99    63.68\n",
              "10    6/8/2018     East     Jones   Binder     60      8.99   539.40\n",
              "11   6/25/2018  Central    Morgan   Pencil     90      4.99   449.10\n",
              "12   7/12/2018     East    Howard   Binder     29      1.99    57.71\n",
              "13   7/29/2018     East    Parent   Binder     81     19.99  1619.19\n",
              "14   8/15/2018     East     Jones   Pencil     35      4.99   174.65\n",
              "15    9/1/2018  Central     Smith     Desk      2    125.00   250.00\n",
              "16   9/18/2018     East     Jones  Pen Set     16     15.99   255.84\n",
              "17   10/5/2018  Central    Morgan   Binder     28      8.99   251.72\n",
              "18  10/22/2018     East     Jones      Pen     64      8.99   575.36\n",
              "19   11/8/2018     East    Parent      Pen     15     19.99   299.85\n",
              "20  11/25/2018  Central    Kivell  Pen Set     96      4.99   479.04\n",
              "21  12/12/2018  Central     Smith   Pencil     67      1.29    86.43\n",
              "22  12/29/2018     East    Parent  Pen Set     74     15.99  1183.26\n",
              "23   1/15/2019  Central      Gill   Binder     46      8.99   413.54\n",
              "24    2/1/2019  Central     Smith   Binder     87     15.00  1305.00\n",
              "25   2/18/2019     East     Jones   Binder      4      4.99    19.96\n",
              "26    3/7/2019     West   Sorvino   Binder      7     19.99   139.93\n",
              "27   3/24/2019  Central   Jardine  Pen Set     50      4.99   249.50\n",
              "28   4/10/2019  Central   Andrews   Pencil     66      1.99   131.34\n",
              "29   4/27/2019     East    Howard      Pen     96      4.99   479.04\n",
              "30   5/14/2019  Central      Gill   Pencil     53      1.29    68.37\n",
              "31   5/31/2019  Central      Gill   Binder     80      8.99   719.20\n",
              "32   6/17/2019  Central    Kivell     Desk      5    125.00   625.00\n",
              "33    7/4/2019     East     Jones  Pen Set     62      4.99   309.38\n",
              "34   7/21/2019  Central    Morgan  Pen Set     55     12.49   686.95\n",
              "35    8/7/2019  Central    Kivell  Pen Set     42     23.95  1005.90\n",
              "36   8/24/2019     West   Sorvino     Desk      3    275.00   825.00\n",
              "37   9/10/2019  Central      Gill   Pencil      7      1.29     9.03\n",
              "38   9/27/2019     West   Sorvino      Pen     76      1.99   151.24\n",
              "39  10/14/2019     West  Thompson   Binder     57     19.99  1139.43\n",
              "40  10/31/2019  Central   Andrews   Pencil     14      1.29    18.06\n",
              "41  11/17/2019  Central   Jardine   Binder     11      4.99    54.89\n",
              "42   12/4/2019  Central   Jardine   Binder     94     19.99  1879.06\n",
              "43  12/21/2019  Central   Andrews   Binder     28      4.99   139.72"
            ]
          },
          "metadata": {
            "tags": []
          },
          "execution_count": 52
        }
      ]
    },
    {
      "cell_type": "code",
      "metadata": {
        "id": "LEFtZbjbMpAD",
        "colab_type": "code",
        "colab": {
          "base_uri": "https://localhost:8080/",
          "height": 212
        },
        "outputId": "cd212d95-e759-4a6e-9d12-b4dcf0163a2e"
      },
      "source": [
        "!pip install mammoth"
      ],
      "execution_count": 55,
      "outputs": [
        {
          "output_type": "stream",
          "text": [
            "Collecting mammoth\n",
            "\u001b[?25l  Downloading https://files.pythonhosted.org/packages/92/53/bbd500ee249c8043f206c3242babd238d688e25148c2ebe77885b188c4a1/mammoth-1.4.10-py2.py3-none-any.whl (46kB)\n",
            "\r\u001b[K     |███████                         | 10kB 19.7MB/s eta 0:00:01\r\u001b[K     |██████████████                  | 20kB 3.1MB/s eta 0:00:01\r\u001b[K     |█████████████████████           | 30kB 4.6MB/s eta 0:00:01\r\u001b[K     |████████████████████████████    | 40kB 3.0MB/s eta 0:00:01\r\u001b[K     |████████████████████████████████| 51kB 2.7MB/s \n",
            "\u001b[?25hCollecting cobble<0.2,>=0.1.3\n",
            "  Downloading https://files.pythonhosted.org/packages/d2/13/306dbd6d10f7bc13de0bdc313b2bbf1a031abc0beb36033ea850a3782656/cobble-0.1.3.tar.gz\n",
            "Building wheels for collected packages: cobble\n",
            "  Building wheel for cobble (setup.py) ... \u001b[?25l\u001b[?25hdone\n",
            "  Created wheel for cobble: filename=cobble-0.1.3-cp36-none-any.whl size=11721 sha256=6d89c78631694c146ea96d6cc6d060a218670c99b0dcb774fac411e8393e530b\n",
            "  Stored in directory: /root/.cache/pip/wheels/52/aa/7f/a4270dbbb0773257b85b0d99cf688107906cdbf9b121278207\n",
            "Successfully built cobble\n",
            "Installing collected packages: cobble, mammoth\n",
            "Successfully installed cobble-0.1.3 mammoth-1.4.10\n"
          ],
          "name": "stdout"
        }
      ]
    },
    {
      "cell_type": "code",
      "metadata": {
        "id": "KbcmT6mAMt4c",
        "colab_type": "code",
        "colab": {}
      },
      "source": [
        "import mammoth"
      ],
      "execution_count": 0,
      "outputs": []
    },
    {
      "cell_type": "code",
      "metadata": {
        "id": "D8P6a__NMyyk",
        "colab_type": "code",
        "colab": {}
      },
      "source": [
        "    import mammoth\n",
        "    with open(\"/content/Fictitious_1.docx\", \"rb\") as docx_file:\n",
        "        result = mammoth.convert_to_html(docx_file)\n",
        "        html = result.value"
      ],
      "execution_count": 0,
      "outputs": []
    },
    {
      "cell_type": "code",
      "metadata": {
        "id": "L6S9wR6yNVv-",
        "colab_type": "code",
        "colab": {
          "base_uri": "https://localhost:8080/",
          "height": 53
        },
        "outputId": "2e9a1537-1158-424d-b24f-b67d40ca088e"
      },
      "source": [
        "html"
      ],
      "execution_count": 64,
      "outputs": [
        {
          "output_type": "execute_result",
          "data": {
            "text/plain": [
              "'<table><tr><td><p><strong>Agency Information</strong></p></td></tr></table><p>Agency Name:  Roy  &amp; Assoc</p><p>Agency Number (If Appointed): X1</p><p>Agency Address: 1601 Willow Rd, Menlo Park, California 94025</p><p>Phone: <a href=\"javascript:void(0)\">(818) 703-8057</a>                                                                     Fax: <a href=\"javascript:void(0)\">(818) 703-0935</a></p><p>Website: <a href=\"https://www.facebook.com/Facebook-HQ-166793820034304/\">https://www.facebook.com/Facebook-HQ-166793820034304/</a></p><p>Territory Manager: Jeremy Harkin\\t</p><p>Sales Director: Liz Jones</p><p>Agency Management System: XCVYUI</p><p>Policy Upload /Download Capabilities: Yes</p><p>Payroll Company Relationships: Click here to enter text.</p><table><tr><td><p><strong>History</strong></p></td></tr></table><p>Date Started: Click here to enter a date.</p><p>Date Appointed: 3/3/2018</p><p>Number of Locations: 10</p><p>Geography: CA, FL, IL, NJ, Canada, NV</p><table><tr><td colspan=\"9\"><p><strong>Sales Staff</strong></p></td></tr><tr><td colspan=\"9\"><p><img src=\"data:image/x-wmf;base64,183GmgAAAAAAAJAAMACQAAAAAAAhVwEACQAAAxABAAAGABwAAAAAAAQAAAADAQgABQAAAAsCAAAAAAUAAAAMAjAAkAADAAAAHgAHAAAA/AIAAGlpaQAAAAQAAAAtAQAACQAAAB0GIQDwADAAAgAAAI4ACQAAAB0GIQDwAAIAjgAuAAAABwAAAPwCAAD///8AAAAEAAAALQEBAAkAAAAdBiEA8AAuAAIAAAAAAAkAAAAdBiEA8AACAIwAAAACAAcAAAD8AgAAoKCgAAAABAAAAC0BAgAJAAAAHQYhAPAALAABAAIAjQAJAAAAHQYhAPAAAQCLAC0AAgAHAAAA/AIAAOPj4wAAAAQAAAAtAQMACQAAAB0GIQDwACsAAQACAAIACQAAAB0GIQDwAAEAigACAAMABwAAAPwCAADw8PAAAAAEAAAALQEEAAkAAAAdBiEA8AAqAIoAAwADAAQAAAAtAQQACQAAAB0GIQDwACgAiAAEAAQABQAAAAsCAAAAAAUAAAAMAjAAkAAFAAAAAQLw8PAABQAAAC4BAAAAAAUAAAACAQEAAAAcAAAA+wLp/wAAAAAAAJABAAAAAABAAAJDYWxpYnJpAP////9c4ZsN/n8AAMAE/prDAQAAAAAAAAQAAAAtAQUABQAAAAkCAAAAABwAAAAyCgoAGgALAAQABwAKAIkAJgBJbnNlcnQgRmlsZQAGAAwACQALAAgACAAFAAsABQAFAAsABAAAACcB//8DAAAAAAA=\" />Please click on the button to insert a contact list. If a contact list is not available, please use the below table to capture agency contacts. </p></td></tr><tr><td><p>Name</p></td><td><p>Title</p></td><td><p>Email</p></td><td><p>Phone</p></td><td><p>Decision Maker</p></td><td><p>Who Do They Support</p></td><td><p>Producer</p></td><td><p>Producer Ranking</p></td><td><p>Producer Industry Focus</p></td></tr><tr><td><p>Van Kilmer</p></td><td><p>SVP</p></td><td><p>vkilmer@facebook.com</p></td><td><p>718-603-2224</p></td><td><p>☒</p></td><td><p>Main contact</p></td><td><p>☐</p></td><td></td><td></td></tr><tr><td><p>Rob Hardisty</p></td><td><p>VP</p></td><td><p>rhardisty@facebook.com</p></td><td><p>718-713-8077 x132</p></td><td><p>☐</p></td><td></td><td><p>☒</p></td><td></td><td><p>Restaurants</p></td></tr><tr><td><p>Troy Bagwell</p></td><td><p>EVP</p></td><td><p>troy@facebook.com</p></td><td><p>718-476-5364</p></td><td><p>☒</p></td><td><p>Practice Leader</p></td><td><p>☐</p></td><td></td><td></td></tr><tr><td></td><td></td><td></td><td></td><td><p>☐</p></td><td></td><td><p>☐</p></td><td></td><td></td></tr><tr><td></td><td></td><td></td><td></td><td><p>☐</p></td><td></td><td><p>☐</p></td><td></td><td></td></tr><tr><td></td><td></td><td></td><td></td><td><p>☐</p></td><td></td><td><p>☐</p></td><td></td><td></td></tr><tr><td></td><td></td><td></td><td></td><td><p>☐</p></td><td></td><td><p>☐</p></td><td></td><td></td></tr><tr><td></td><td></td><td></td><td></td><td><p>☐</p></td><td></td><td><p>☐</p></td><td></td><td></td></tr><tr><td></td><td></td><td></td><td></td><td><p>☐</p></td><td></td><td><p>☐</p></td><td></td><td></td></tr><tr><td></td><td></td><td></td><td></td><td><p>☐</p></td><td></td><td><p>☐</p></td><td></td><td></td></tr><tr><td></td><td></td><td></td><td></td><td><p>☐</p></td><td></td><td><p>☐</p></td><td></td><td></td></tr><tr><td></td><td></td><td></td><td></td><td><p>☐</p></td><td></td><td><p>☐</p></td><td></td><td></td></tr></table><table><tr><td><p><strong>Agency Volume</strong></p></td></tr></table><p>Total Written Premium ($ Revenue): $700M in revenue</p><p>Total Workers Comp Premium ($ Volume): Click here to enter text.</p><p>Percentage of PL vs CL: Click here to enter text.</p><p>Does the agency prefer to split Comp (Multi vs Mono): Choose an item.</p><p>Define Small vs Middle Market (Revenue, Premium, Other etc…): Click here to enter text.</p><p>Is there a specific small business marketing plan?: Click here to enter text.</p><p>Industry Group (Business Services, HealthCare, Retail, Construction, MFG, Technology, Education, Professional Services, Transportation, Financial Institution, Real Estate, Wholesale Distribution, Energy)</p><table><tr><td><p>Identify Industry Group</p></td><td><p>Percentage of Book &amp; Comments</p></td></tr><tr><td><p>     </p></td><td><p>     </p></td></tr><tr><td><p>     </p></td><td><p>     </p></td></tr><tr><td><p>     </p></td><td><p>     </p></td></tr><tr><td><p>     </p></td><td><p>     </p></td></tr><tr><td><p>     </p></td><td><p>     </p></td></tr></table><table><tr><td colspan=\"3\"><p>Small vs. Middle Market (Average Premium of Each)</p></td></tr><tr><td></td><td><p>Small</p></td><td><p>Middle Market</p></td></tr><tr><td><p>Average Premium</p></td><td><p>Click here to enter text.</p></td><td><p>Click here to enter text.</p></td></tr><tr><td><p>Definition / Threshold</p></td><td><p>Click here to enter text.</p></td><td><p>Click here to enter text.</p></td></tr><tr><td><p>Marketing Strategy</p></td><td><p>Click here to enter text.</p></td><td><p>Click here to enter text.</p></td></tr><tr><td><p>How often are Accounts Remarketed?</p></td><td><p>Click here to enter text.</p></td><td><p>Click here to enter text.</p></td></tr><tr><td><p>Focus Priorities (Industry Groups or Segments)</p></td><td><p>Click here to enter text.</p></td><td><p>Click here to enter text.</p></td></tr></table><table><tr><td><p><strong>Opportunities/Perpetuation Plan</strong></p></td></tr></table><p>Why Do You Need EMPLOYERS: Click here to enter text.</p><p>Acquisitions/Mergers: Click here to enter text.</p><p>Affiliation (Trade/ Industry Groups): Click here to enter text.</p><p>Programs &amp; associations (existing | future plans): Click here to enter text.</p><p>\\tIndustry: Click here to enter text.</p><p>\\tHistory (Length of time): Click here to enter text.</p><p>Perpetual Plan (Three to Five Years): Click here to enter text.</p><table><tr><td><p><strong>Additional Agency Information</strong></p></td></tr><tr><td><p><strong>Competition</strong></p></td></tr></table><table><tr><td><p>Carrier Name</p></td><td><p>Ranking</p></td><td><p>Total Premium</p></td><td><p>Strengths</p></td><td><p>Weakness</p></td></tr><tr><td><p>Zeus</p></td><td><p>Choose an item.</p></td><td><p>Click here to enter text.</p></td><td><p>Will write cannibus</p></td><td><p>Click here to enter text.</p></td></tr><tr><td><p>NoTrust</p></td><td><p>Choose an item.</p></td><td><p>Click here to enter text.</p></td><td><p>Click here to enter text.</p></td><td><p>Click here to enter text.</p></td></tr><tr><td><p>HardRock</p></td><td><p>Choose an item.</p></td><td><p>Click here to enter text.</p></td><td><p>Click here to enter text.</p></td><td><p>Click here to enter text.</p></td></tr><tr><td><p>SpaceJ</p></td><td><p>Choose an item.</p></td><td><p>Click here to enter text.</p></td><td><p>Click here to enter text.</p></td><td><p>Click here to enter text.</p></td></tr><tr><td><p>WHATIF</p></td><td><p>Choose an item.</p></td><td><p>Click here to enter text.</p></td><td><p>Click here to enter text.</p></td><td><p>Click here to enter text.</p></td></tr></table><table><tr><td><p><strong>Compensation</strong></p></td></tr></table><p>What size of an account is Producer Paid (explain if it’s Revenue, Premium or Other): Click here to enter text.</p><p>Revenue / Premium Threshold: Click here to enter text.</p><p>New / Renewal Difference (If Any): Click here to enter text.</p><p>Accept Sales Incentives: Choose an item.</p><p>If Yes – Details: Click here to enter text.                              If No – Details: Click here to enter text.</p><p>Profit Sharing (Shared with Producers): Click here to enter text.</p><table><tr><td colspan=\"4\"><p><strong>Top Ten Accounts</strong></p></td></tr><tr><td><p><strong>Account Name </strong></p></td><td><p><strong>Producer Name</strong></p></td><td><p><strong>EAP</strong></p></td><td><p><strong>Effective Date</strong></p></td></tr><tr><td><p>Click here to enter text.</p></td><td><p>Click here to enter text.</p></td><td><p>Click here to enter text.</p></td><td><p>Click here to enter text.</p></td></tr><tr><td><p>Click here to enter text.</p></td><td><p>Click here to enter text.</p></td><td><p>Click here to enter text.</p></td><td><p>Click here to enter text.</p></td></tr><tr><td><p>Click here to enter text.</p></td><td><p>Click here to enter text.</p></td><td><p>Click here to enter text.</p></td><td><p>Click here to enter text.</p></td></tr><tr><td><p>Click here to enter text.</p></td><td><p>Click here to enter text.</p></td><td><p>Click here to enter text.</p></td><td><p>Click here to enter text.</p></td></tr><tr><td><p>Click here to enter text.</p></td><td><p>Click here to enter text.</p></td><td><p>Click here to enter text.</p></td><td><p>Click here to enter text.</p></td></tr><tr><td><p>Click here to enter text.</p></td><td><p>Click here to enter text.</p></td><td><p>Click here to enter text.</p></td><td><p>Click here to enter text.</p></td></tr><tr><td><p>Click here to enter text.</p></td><td><p>Click here to enter text.</p></td><td><p>Click here to enter text.</p></td><td><p>Click here to enter text.</p></td></tr><tr><td><p>Click here to enter text.</p></td><td><p>Click here to enter text.</p></td><td><p>Click here to enter text.</p></td><td><p>Click here to enter text.</p></td></tr><tr><td><p>Click here to enter text.</p></td><td><p>Click here to enter text.</p></td><td><p>Click here to enter text.</p></td><td><p>Click here to enter text.</p></td></tr><tr><td><p>Click here to enter text.</p></td><td><p>Click here to enter text.</p></td><td><p>Click here to enter text.</p></td><td><p>Click here to enter text.</p></td></tr></table><table><tr><td><p><strong>Notes</strong></p></td></tr><tr><td></td></tr><tr><td></td></tr><tr><td></td></tr><tr><td></td></tr><tr><td></td></tr><tr><td></td></tr><tr><td></td></tr><tr><td></td></tr><tr><td></td></tr><tr><td></td></tr><tr><td></td></tr><tr><td></td></tr><tr><td></td></tr><tr><td></td></tr><tr><td></td></tr><tr><td></td></tr><tr><td></td></tr><tr><td><p><strong>Document History</strong></p></td></tr><tr><td></td></tr><tr><td></td></tr><tr><td></td></tr><tr><td></td></tr><tr><td></td></tr><tr><td></td></tr><tr><td></td></tr></table>'"
            ]
          },
          "metadata": {
            "tags": []
          },
          "execution_count": 64
        }
      ]
    },
    {
      "cell_type": "code",
      "metadata": {
        "id": "iznQ7a3hNoAB",
        "colab_type": "code",
        "colab": {}
      },
      "source": [
        "from IPython.display import display_html"
      ],
      "execution_count": 0,
      "outputs": []
    },
    {
      "cell_type": "code",
      "metadata": {
        "id": "NsT2p9hfNrht",
        "colab_type": "code",
        "colab": {
          "base_uri": "https://localhost:8080/",
          "height": 1000
        },
        "outputId": "4bbd68ab-e1c1-49b7-e0b9-20a45a781ba9"
      },
      "source": [
        "display_html(html, raw=True)"
      ],
      "execution_count": 66,
      "outputs": [
        {
          "output_type": "display_data",
          "data": {
            "text/html": [
              "<table><tr><td><p><strong>Agency Information</strong></p></td></tr></table><p>Agency Name:  Roy  &amp; Assoc</p><p>Agency Number (If Appointed): X1</p><p>Agency Address: 1601 Willow Rd, Menlo Park, California 94025</p><p>Phone: <a href=\"javascript:void(0)\">(818) 703-8057</a>                                                                     Fax: <a href=\"javascript:void(0)\">(818) 703-0935</a></p><p>Website: <a href=\"https://www.facebook.com/Facebook-HQ-166793820034304/\">https://www.facebook.com/Facebook-HQ-166793820034304/</a></p><p>Territory Manager: Jeremy Harkin\t</p><p>Sales Director: Liz Jones</p><p>Agency Management System: XCVYUI</p><p>Policy Upload /Download Capabilities: Yes</p><p>Payroll Company Relationships: Click here to enter text.</p><table><tr><td><p><strong>History</strong></p></td></tr></table><p>Date Started: Click here to enter a date.</p><p>Date Appointed: 3/3/2018</p><p>Number of Locations: 10</p><p>Geography: CA, FL, IL, NJ, Canada, NV</p><table><tr><td colspan=\"9\"><p><strong>Sales Staff</strong></p></td></tr><tr><td colspan=\"9\"><p><img src=\"data:image/x-wmf;base64,183GmgAAAAAAAJAAMACQAAAAAAAhVwEACQAAAxABAAAGABwAAAAAAAQAAAADAQgABQAAAAsCAAAAAAUAAAAMAjAAkAADAAAAHgAHAAAA/AIAAGlpaQAAAAQAAAAtAQAACQAAAB0GIQDwADAAAgAAAI4ACQAAAB0GIQDwAAIAjgAuAAAABwAAAPwCAAD///8AAAAEAAAALQEBAAkAAAAdBiEA8AAuAAIAAAAAAAkAAAAdBiEA8AACAIwAAAACAAcAAAD8AgAAoKCgAAAABAAAAC0BAgAJAAAAHQYhAPAALAABAAIAjQAJAAAAHQYhAPAAAQCLAC0AAgAHAAAA/AIAAOPj4wAAAAQAAAAtAQMACQAAAB0GIQDwACsAAQACAAIACQAAAB0GIQDwAAEAigACAAMABwAAAPwCAADw8PAAAAAEAAAALQEEAAkAAAAdBiEA8AAqAIoAAwADAAQAAAAtAQQACQAAAB0GIQDwACgAiAAEAAQABQAAAAsCAAAAAAUAAAAMAjAAkAAFAAAAAQLw8PAABQAAAC4BAAAAAAUAAAACAQEAAAAcAAAA+wLp/wAAAAAAAJABAAAAAABAAAJDYWxpYnJpAP////9c4ZsN/n8AAMAE/prDAQAAAAAAAAQAAAAtAQUABQAAAAkCAAAAABwAAAAyCgoAGgALAAQABwAKAIkAJgBJbnNlcnQgRmlsZQAGAAwACQALAAgACAAFAAsABQAFAAsABAAAACcB//8DAAAAAAA=\" />Please click on the button to insert a contact list. If a contact list is not available, please use the below table to capture agency contacts. </p></td></tr><tr><td><p>Name</p></td><td><p>Title</p></td><td><p>Email</p></td><td><p>Phone</p></td><td><p>Decision Maker</p></td><td><p>Who Do They Support</p></td><td><p>Producer</p></td><td><p>Producer Ranking</p></td><td><p>Producer Industry Focus</p></td></tr><tr><td><p>Van Kilmer</p></td><td><p>SVP</p></td><td><p>vkilmer@facebook.com</p></td><td><p>718-603-2224</p></td><td><p>☒</p></td><td><p>Main contact</p></td><td><p>☐</p></td><td></td><td></td></tr><tr><td><p>Rob Hardisty</p></td><td><p>VP</p></td><td><p>rhardisty@facebook.com</p></td><td><p>718-713-8077 x132</p></td><td><p>☐</p></td><td></td><td><p>☒</p></td><td></td><td><p>Restaurants</p></td></tr><tr><td><p>Troy Bagwell</p></td><td><p>EVP</p></td><td><p>troy@facebook.com</p></td><td><p>718-476-5364</p></td><td><p>☒</p></td><td><p>Practice Leader</p></td><td><p>☐</p></td><td></td><td></td></tr><tr><td></td><td></td><td></td><td></td><td><p>☐</p></td><td></td><td><p>☐</p></td><td></td><td></td></tr><tr><td></td><td></td><td></td><td></td><td><p>☐</p></td><td></td><td><p>☐</p></td><td></td><td></td></tr><tr><td></td><td></td><td></td><td></td><td><p>☐</p></td><td></td><td><p>☐</p></td><td></td><td></td></tr><tr><td></td><td></td><td></td><td></td><td><p>☐</p></td><td></td><td><p>☐</p></td><td></td><td></td></tr><tr><td></td><td></td><td></td><td></td><td><p>☐</p></td><td></td><td><p>☐</p></td><td></td><td></td></tr><tr><td></td><td></td><td></td><td></td><td><p>☐</p></td><td></td><td><p>☐</p></td><td></td><td></td></tr><tr><td></td><td></td><td></td><td></td><td><p>☐</p></td><td></td><td><p>☐</p></td><td></td><td></td></tr><tr><td></td><td></td><td></td><td></td><td><p>☐</p></td><td></td><td><p>☐</p></td><td></td><td></td></tr><tr><td></td><td></td><td></td><td></td><td><p>☐</p></td><td></td><td><p>☐</p></td><td></td><td></td></tr></table><table><tr><td><p><strong>Agency Volume</strong></p></td></tr></table><p>Total Written Premium ($ Revenue): $700M in revenue</p><p>Total Workers Comp Premium ($ Volume): Click here to enter text.</p><p>Percentage of PL vs CL: Click here to enter text.</p><p>Does the agency prefer to split Comp (Multi vs Mono): Choose an item.</p><p>Define Small vs Middle Market (Revenue, Premium, Other etc…): Click here to enter text.</p><p>Is there a specific small business marketing plan?: Click here to enter text.</p><p>Industry Group (Business Services, HealthCare, Retail, Construction, MFG, Technology, Education, Professional Services, Transportation, Financial Institution, Real Estate, Wholesale Distribution, Energy)</p><table><tr><td><p>Identify Industry Group</p></td><td><p>Percentage of Book &amp; Comments</p></td></tr><tr><td><p>     </p></td><td><p>     </p></td></tr><tr><td><p>     </p></td><td><p>     </p></td></tr><tr><td><p>     </p></td><td><p>     </p></td></tr><tr><td><p>     </p></td><td><p>     </p></td></tr><tr><td><p>     </p></td><td><p>     </p></td></tr></table><table><tr><td colspan=\"3\"><p>Small vs. Middle Market (Average Premium of Each)</p></td></tr><tr><td></td><td><p>Small</p></td><td><p>Middle Market</p></td></tr><tr><td><p>Average Premium</p></td><td><p>Click here to enter text.</p></td><td><p>Click here to enter text.</p></td></tr><tr><td><p>Definition / Threshold</p></td><td><p>Click here to enter text.</p></td><td><p>Click here to enter text.</p></td></tr><tr><td><p>Marketing Strategy</p></td><td><p>Click here to enter text.</p></td><td><p>Click here to enter text.</p></td></tr><tr><td><p>How often are Accounts Remarketed?</p></td><td><p>Click here to enter text.</p></td><td><p>Click here to enter text.</p></td></tr><tr><td><p>Focus Priorities (Industry Groups or Segments)</p></td><td><p>Click here to enter text.</p></td><td><p>Click here to enter text.</p></td></tr></table><table><tr><td><p><strong>Opportunities/Perpetuation Plan</strong></p></td></tr></table><p>Why Do You Need EMPLOYERS: Click here to enter text.</p><p>Acquisitions/Mergers: Click here to enter text.</p><p>Affiliation (Trade/ Industry Groups): Click here to enter text.</p><p>Programs &amp; associations (existing | future plans): Click here to enter text.</p><p>\tIndustry: Click here to enter text.</p><p>\tHistory (Length of time): Click here to enter text.</p><p>Perpetual Plan (Three to Five Years): Click here to enter text.</p><table><tr><td><p><strong>Additional Agency Information</strong></p></td></tr><tr><td><p><strong>Competition</strong></p></td></tr></table><table><tr><td><p>Carrier Name</p></td><td><p>Ranking</p></td><td><p>Total Premium</p></td><td><p>Strengths</p></td><td><p>Weakness</p></td></tr><tr><td><p>Zeus</p></td><td><p>Choose an item.</p></td><td><p>Click here to enter text.</p></td><td><p>Will write cannibus</p></td><td><p>Click here to enter text.</p></td></tr><tr><td><p>NoTrust</p></td><td><p>Choose an item.</p></td><td><p>Click here to enter text.</p></td><td><p>Click here to enter text.</p></td><td><p>Click here to enter text.</p></td></tr><tr><td><p>HardRock</p></td><td><p>Choose an item.</p></td><td><p>Click here to enter text.</p></td><td><p>Click here to enter text.</p></td><td><p>Click here to enter text.</p></td></tr><tr><td><p>SpaceJ</p></td><td><p>Choose an item.</p></td><td><p>Click here to enter text.</p></td><td><p>Click here to enter text.</p></td><td><p>Click here to enter text.</p></td></tr><tr><td><p>WHATIF</p></td><td><p>Choose an item.</p></td><td><p>Click here to enter text.</p></td><td><p>Click here to enter text.</p></td><td><p>Click here to enter text.</p></td></tr></table><table><tr><td><p><strong>Compensation</strong></p></td></tr></table><p>What size of an account is Producer Paid (explain if it’s Revenue, Premium or Other): Click here to enter text.</p><p>Revenue / Premium Threshold: Click here to enter text.</p><p>New / Renewal Difference (If Any): Click here to enter text.</p><p>Accept Sales Incentives: Choose an item.</p><p>If Yes – Details: Click here to enter text.                              If No – Details: Click here to enter text.</p><p>Profit Sharing (Shared with Producers): Click here to enter text.</p><table><tr><td colspan=\"4\"><p><strong>Top Ten Accounts</strong></p></td></tr><tr><td><p><strong>Account Name </strong></p></td><td><p><strong>Producer Name</strong></p></td><td><p><strong>EAP</strong></p></td><td><p><strong>Effective Date</strong></p></td></tr><tr><td><p>Click here to enter text.</p></td><td><p>Click here to enter text.</p></td><td><p>Click here to enter text.</p></td><td><p>Click here to enter text.</p></td></tr><tr><td><p>Click here to enter text.</p></td><td><p>Click here to enter text.</p></td><td><p>Click here to enter text.</p></td><td><p>Click here to enter text.</p></td></tr><tr><td><p>Click here to enter text.</p></td><td><p>Click here to enter text.</p></td><td><p>Click here to enter text.</p></td><td><p>Click here to enter text.</p></td></tr><tr><td><p>Click here to enter text.</p></td><td><p>Click here to enter text.</p></td><td><p>Click here to enter text.</p></td><td><p>Click here to enter text.</p></td></tr><tr><td><p>Click here to enter text.</p></td><td><p>Click here to enter text.</p></td><td><p>Click here to enter text.</p></td><td><p>Click here to enter text.</p></td></tr><tr><td><p>Click here to enter text.</p></td><td><p>Click here to enter text.</p></td><td><p>Click here to enter text.</p></td><td><p>Click here to enter text.</p></td></tr><tr><td><p>Click here to enter text.</p></td><td><p>Click here to enter text.</p></td><td><p>Click here to enter text.</p></td><td><p>Click here to enter text.</p></td></tr><tr><td><p>Click here to enter text.</p></td><td><p>Click here to enter text.</p></td><td><p>Click here to enter text.</p></td><td><p>Click here to enter text.</p></td></tr><tr><td><p>Click here to enter text.</p></td><td><p>Click here to enter text.</p></td><td><p>Click here to enter text.</p></td><td><p>Click here to enter text.</p></td></tr><tr><td><p>Click here to enter text.</p></td><td><p>Click here to enter text.</p></td><td><p>Click here to enter text.</p></td><td><p>Click here to enter text.</p></td></tr></table><table><tr><td><p><strong>Notes</strong></p></td></tr><tr><td></td></tr><tr><td></td></tr><tr><td></td></tr><tr><td></td></tr><tr><td></td></tr><tr><td></td></tr><tr><td></td></tr><tr><td></td></tr><tr><td></td></tr><tr><td></td></tr><tr><td></td></tr><tr><td></td></tr><tr><td></td></tr><tr><td></td></tr><tr><td></td></tr><tr><td></td></tr><tr><td></td></tr><tr><td><p><strong>Document History</strong></p></td></tr><tr><td></td></tr><tr><td></td></tr><tr><td></td></tr><tr><td></td></tr><tr><td></td></tr><tr><td></td></tr><tr><td></td></tr></table>"
            ]
          },
          "metadata": {
            "tags": []
          }
        }
      ]
    },
    {
      "cell_type": "code",
      "metadata": {
        "id": "cY7U_gvzN4kj",
        "colab_type": "code",
        "colab": {
          "base_uri": "https://localhost:8080/",
          "height": 1000
        },
        "outputId": "ea2e8a0c-e935-4743-cb9f-1d4899751bfd"
      },
      "source": [
        "dfs = pd.read_html(html)\n",
        "dfs"
      ],
      "execution_count": 67,
      "outputs": [
        {
          "output_type": "execute_result",
          "data": {
            "text/plain": [
              "[                    0\n",
              " 0  Agency Information,          0\n",
              " 0  History,                                                     0  ...                                                  8\n",
              " 0                                         Sales Staff  ...                                        Sales Staff\n",
              " 1   Please click on the button to insert a contact...  ...  Please click on the button to insert a contact...\n",
              " 2                                                Name  ...                            Producer Industry Focus\n",
              " 3                                          Van Kilmer  ...                                                NaN\n",
              " 4                                        Rob Hardisty  ...                                        Restaurants\n",
              " 5                                        Troy Bagwell  ...                                                NaN\n",
              " 6                                                 NaN  ...                                                NaN\n",
              " 7                                                 NaN  ...                                                NaN\n",
              " 8                                                 NaN  ...                                                NaN\n",
              " 9                                                 NaN  ...                                                NaN\n",
              " 10                                                NaN  ...                                                NaN\n",
              " 11                                                NaN  ...                                                NaN\n",
              " 12                                                NaN  ...                                                NaN\n",
              " 13                                                NaN  ...                                                NaN\n",
              " 14                                                NaN  ...                                                NaN\n",
              " \n",
              " [15 rows x 9 columns],                0\n",
              " 0  Agency Volume,                          0                              1\n",
              " 0  Identify Industry Group  Percentage of Book & Comments\n",
              " 1                      NaN                            NaN\n",
              " 2                      NaN                            NaN\n",
              " 3                      NaN                            NaN\n",
              " 4                      NaN                            NaN\n",
              " 5                      NaN                            NaN,                                                    0  ...                                                  2\n",
              " 0  Small vs. Middle Market (Average Premium of Each)  ...  Small vs. Middle Market (Average Premium of Each)\n",
              " 1                                                NaN  ...                                      Middle Market\n",
              " 2                                    Average Premium  ...                          Click here to enter text.\n",
              " 3                             Definition / Threshold  ...                          Click here to enter text.\n",
              " 4                                 Marketing Strategy  ...                          Click here to enter text.\n",
              " 5                 How often are Accounts Remarketed?  ...                          Click here to enter text.\n",
              " 6     Focus Priorities (Industry Groups or Segments)  ...                          Click here to enter text.\n",
              " \n",
              " [7 rows x 3 columns],                                  0\n",
              " 0  Opportunities/Perpetuation Plan,                                0\n",
              " 0  Additional Agency Information\n",
              " 1                    Competition,               0  ...                          4\n",
              " 0  Carrier Name  ...                   Weakness\n",
              " 1          Zeus  ...  Click here to enter text.\n",
              " 2       NoTrust  ...  Click here to enter text.\n",
              " 3      HardRock  ...  Click here to enter text.\n",
              " 4        SpaceJ  ...  Click here to enter text.\n",
              " 5        WHATIF  ...  Click here to enter text.\n",
              " \n",
              " [6 rows x 5 columns],               0\n",
              " 0  Compensation,                             0  ...                          3\n",
              " 0            Top Ten Accounts  ...           Top Ten Accounts\n",
              " 1                Account Name  ...             Effective Date\n",
              " 2   Click here to enter text.  ...  Click here to enter text.\n",
              " 3   Click here to enter text.  ...  Click here to enter text.\n",
              " 4   Click here to enter text.  ...  Click here to enter text.\n",
              " 5   Click here to enter text.  ...  Click here to enter text.\n",
              " 6   Click here to enter text.  ...  Click here to enter text.\n",
              " 7   Click here to enter text.  ...  Click here to enter text.\n",
              " 8   Click here to enter text.  ...  Click here to enter text.\n",
              " 9   Click here to enter text.  ...  Click here to enter text.\n",
              " 10  Click here to enter text.  ...  Click here to enter text.\n",
              " 11  Click here to enter text.  ...  Click here to enter text.\n",
              " \n",
              " [12 rows x 4 columns],                   0\n",
              " 0             Notes\n",
              " 1  Document History]"
            ]
          },
          "metadata": {
            "tags": []
          },
          "execution_count": 67
        }
      ]
    },
    {
      "cell_type": "code",
      "metadata": {
        "id": "iUlebJYZOKeq",
        "colab_type": "code",
        "colab": {
          "base_uri": "https://localhost:8080/",
          "height": 76
        },
        "outputId": "d1ea65cf-a528-476d-b426-b01143b2e1d4"
      },
      "source": [
        "df = dfs[0]\n",
        "df"
      ],
      "execution_count": 68,
      "outputs": [
        {
          "output_type": "execute_result",
          "data": {
            "text/html": [
              "<div>\n",
              "<style scoped>\n",
              "    .dataframe tbody tr th:only-of-type {\n",
              "        vertical-align: middle;\n",
              "    }\n",
              "\n",
              "    .dataframe tbody tr th {\n",
              "        vertical-align: top;\n",
              "    }\n",
              "\n",
              "    .dataframe thead th {\n",
              "        text-align: right;\n",
              "    }\n",
              "</style>\n",
              "<table border=\"1\" class=\"dataframe\">\n",
              "  <thead>\n",
              "    <tr style=\"text-align: right;\">\n",
              "      <th></th>\n",
              "      <th>0</th>\n",
              "    </tr>\n",
              "  </thead>\n",
              "  <tbody>\n",
              "    <tr>\n",
              "      <th>0</th>\n",
              "      <td>Agency Information</td>\n",
              "    </tr>\n",
              "  </tbody>\n",
              "</table>\n",
              "</div>"
            ],
            "text/plain": [
              "                    0\n",
              "0  Agency Information"
            ]
          },
          "metadata": {
            "tags": []
          },
          "execution_count": 68
        }
      ]
    }
  ]
}